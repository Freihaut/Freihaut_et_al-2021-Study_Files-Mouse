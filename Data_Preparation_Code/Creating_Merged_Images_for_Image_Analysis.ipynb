{
 "cells": [
  {
   "cell_type": "code",
   "execution_count": null,
   "metadata": {},
   "outputs": [],
   "source": [
    "# Combine the Practice and Condition Phase Mouse Usage during a task together into a single merged file to be able\n",
    "# to control for the \"baseline\" in the image data analysis\n",
    "\n",
    "# This exists because I did not find a good solution (without a \"big\" rework of the existing code) that creates\n",
    "# the merged images in the preparation_of_mouse_data.ipynb file directly from the separate matplotlib figures that\n",
    "# are created in the create_mouse_analysis_dataset function loop"
   ]
  },
  {
   "cell_type": "markdown",
   "metadata": {},
   "source": [
    "#### package import"
   ]
  },
  {
   "cell_type": "code",
   "execution_count": null,
   "metadata": {},
   "outputs": [],
   "source": [
    "import numpy as np\n",
    "import os\n",
    "from PIL import Image"
   ]
  },
  {
   "cell_type": "markdown",
   "metadata": {},
   "source": [
    "#### choose the task whose images need to be merged (only 1 task at the time): then run the cells one after another"
   ]
  },
  {
   "cell_type": "code",
   "execution_count": null,
   "metadata": {},
   "outputs": [],
   "source": [
    "# chose the task\n",
    "task_name = \"Point_Click_Task\"\n",
    "# task_name = \"Drag_Drop_Task\"\n",
    "# task_name = \"Follow_Circle_Task\"\n",
    "# task_name = \"Slider_Task\""
   ]
  },
  {
   "cell_type": "code",
   "execution_count": null,
   "metadata": {},
   "outputs": [],
   "source": [
    "# get the path\n",
    "\n",
    "# get the current path\n",
    "dir_path = os.getcwd()\n",
    "\n",
    "# get the directory of the folders with the images of the condition and practice phase\n",
    "# this assumes the images are saved in a folder structure as following: .../Mouse_Usage_Images --> Cond or Prac --> \n",
    "# Taskname, e.g. .../Mouse_Usage_Images/Cond/Point_and_click_task\n",
    "cond_directory = os.path.join(dir_path, \"Mouse_Usage_Images\", \"Cond\", task_name)\n",
    "prac_directroy = os.path.join(dir_path, \"Mouse_Usage_Images\", \"Prac\", task_name)"
   ]
  },
  {
   "cell_type": "code",
   "execution_count": null,
   "metadata": {},
   "outputs": [],
   "source": [
    "# get the image filenames in the directory\n",
    "condition_images = [i for i in os.listdir(cond_directory) if \".png\" in i]\n",
    "practice_images = [i for i in os.listdir(prac_directroy) if \".png\" in i]"
   ]
  },
  {
   "cell_type": "code",
   "execution_count": null,
   "metadata": {},
   "outputs": [],
   "source": [
    "# get the participant ids of each file name and a list that contains the participant ids that are not in both lists\n",
    "cond_par_ids = [i[-40:-13] for i in condition_images]\n",
    "prac_par_ids = [i[-40:-13] for i in practice_images]\n",
    "\n",
    "ids_not_in_both = list(set(cond_par_ids) ^ set(prac_par_ids))"
   ]
  },
  {
   "cell_type": "code",
   "execution_count": null,
   "metadata": {},
   "outputs": [],
   "source": [
    "# remove the participants that have only an image in the practice or condition phase and not in both\n",
    "def remove_single_images(image_list):\n",
    "\n",
    "    images_to_remove = []\n",
    "\n",
    "    # loop over the images and check if the participant id is not in the practice and condition phase\n",
    "    for image in image_list:\n",
    "        for id in ids_not_in_both:\n",
    "            if id in image:\n",
    "                images_to_remove.append(image)\n",
    "\n",
    "    # remove the \"bad\" participant ids from the file list\n",
    "    cleaned_list = [i for i in image_list if i not in images_to_remove]\n",
    "\n",
    "    # sort the file list\n",
    "    cleaned_list.sort()\n",
    "\n",
    "    return cleaned_list"
   ]
  },
  {
   "cell_type": "code",
   "execution_count": null,
   "metadata": {},
   "outputs": [],
   "source": [
    "# get the cleaned and sorted list with the images that need to be merged\n",
    "cleaned_condition_images = remove_single_images(condition_images)\n",
    "cleaned_practice_images = remove_single_images(practice_images)"
   ]
  },
  {
   "cell_type": "code",
   "execution_count": null,
   "metadata": {},
   "outputs": [],
   "source": [
    "# loop over all image files and merge them into a single file\n",
    "for i in range(0, len(cleaned_condition_images)):\n",
    "\n",
    "    # get the image files\n",
    "    images = [Image.open(os.path.join(cond_directory, cleaned_condition_images[i])),\n",
    "              Image.open(os.path.join(prac_directroy, cleaned_practice_images[i]))]\n",
    "\n",
    "    # pick the image which is the smallest, and resize the others to match it (can be arbitrary image shape here)\n",
    "    min_shape = sorted([(np.sum(i.size), i.size) for i in images])[0][1]\n",
    "\n",
    "    # stack the two images vertically and create the merged image\n",
    "    imgs_comb = np.vstack((np.asarray(i.resize(min_shape)) for i in images))\n",
    "    imgs_comb = Image.fromarray(imgs_comb)\n",
    "\n",
    "    # resize the image to a specific width that works well with the image classification\n",
    "    basewidth = 224\n",
    "    wpercent = (basewidth / float(imgs_comb.size[0]))\n",
    "    hsize = int((float(imgs_comb.size[1]) * float(wpercent)))\n",
    "    imgs_comb = imgs_comb.resize((basewidth, hsize), Image.ANTIALIAS)\n",
    "\n",
    "    # information to name the merged image (infos are saved in the file names and selected by the corresponding index):\n",
    "    # filename structure: taskname_participant_id_condition_arousal_valence.png\n",
    "    par_id = cleaned_condition_images[i][-40:-13]\n",
    "    condition = cleaned_condition_images[i][-11]\n",
    "\n",
    "    # information about valence\n",
    "    pr_valence = int(cleaned_practice_images[i][-6:-4])\n",
    "    con_valence = int(cleaned_condition_images[i][-6:-4])\n",
    "\n",
    "    # save the valence value as a string (it must be considered if it is a positve or negative value in order to be\n",
    "    # able to read the value from the string\n",
    "    valence_diff = con_valence - pr_valence\n",
    "    if valence_diff >= 0:\n",
    "        valence_diff = \"+\" + str(valence_diff)\n",
    "    else:\n",
    "        valence_diff = str(valence_diff)\n",
    "\n",
    "    # same procedure for the arousal value\n",
    "    pr_arousal = int(cleaned_practice_images[i][-9:-7])\n",
    "    con_arousal = int(cleaned_condition_images[i][-9:-7])\n",
    "\n",
    "    arousal_diff = con_arousal - pr_arousal\n",
    "    if arousal_diff >= 0:\n",
    "        arousal_diff = \"+\" + str(arousal_diff)\n",
    "    else:\n",
    "        arousal_diff = str(arousal_diff)\n",
    "\n",
    "    path = os.path.join(dir_path, \"Mouse_Usage_Images\", \"Merged\")\n",
    "\n",
    "    # print the participant that is being processed and check if the participant ids of the merged images are matching\n",
    "    print(\"Processing: \" + par_id, cleaned_practice_images[i][-40:-13])\n",
    "\n",
    "    # save the merged image file with the following name structure:\n",
    "    # merged_participantid_condition_arousalDifference(+value or -value)_valenceDifference(+value or -value)\n",
    "    imgs_comb.save(path + \"/\" + task_name + \"/Merged_\" + par_id + \"_\" + condition + \"_\"\n",
    "                   + arousal_diff + \"_\" + valence_diff + \".png\")"
   ]
  }
 ],
 "metadata": {
  "kernelspec": {
   "display_name": "Python [conda env:full_conda]",
   "language": "python",
   "name": "conda-env-full_conda-py"
  },
  "language_info": {
   "codemirror_mode": {
    "name": "ipython",
    "version": 3
   },
   "file_extension": ".py",
   "mimetype": "text/x-python",
   "name": "python",
   "nbconvert_exporter": "python",
   "pygments_lexer": "ipython3",
   "version": "3.7.1"
  }
 },
 "nbformat": 4,
 "nbformat_minor": 2
}
