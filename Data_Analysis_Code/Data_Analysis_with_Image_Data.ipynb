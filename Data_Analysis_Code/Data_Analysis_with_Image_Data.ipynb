{
 "cells": [
  {
   "cell_type": "markdown",
   "metadata": {},
   "source": [
    "## Analyzing the Image Data using the fastai library"
   ]
  },
  {
   "cell_type": "code",
   "execution_count": null,
   "metadata": {},
   "outputs": [],
   "source": [
    "# import core modules\n",
    "from fastai.vision import *\n",
    "from fastai.metrics import accuracy\n",
    "from fastai.metrics import r2_score\n",
    "import numpy as np\n",
    "from random import shuffle\n",
    "import os"
   ]
  },
  {
   "cell_type": "markdown",
   "metadata": {},
   "source": [
    "### Get the names of the task_folders"
   ]
  },
  {
   "cell_type": "code",
   "execution_count": null,
   "metadata": {},
   "outputs": [],
   "source": [
    "# select the task name for the following analysis (only select one task name and then run all following \n",
    "# cells one after another)\n",
    "taskname = \"Point_Click_Task\"\n",
    "# taskname = \"Drag_Drop_Task\"\n",
    "# taskname = \"Follow_Circle_Task\"\n",
    "# taskname = \"Slider_Task\"\n",
    "\n",
    "# get the current path\n",
    "dir_path =  os.getcwd()"
   ]
  },
  {
   "cell_type": "markdown",
   "metadata": {},
   "source": [
    "### Helper Function to do the Image Classification"
   ]
  },
  {
   "cell_type": "code",
   "execution_count": null,
   "metadata": {},
   "outputs": [],
   "source": [
    "def get_databunch(directory, dv=\"condition\"):\n",
    "    \n",
    "    # initialize variables to create the databunch correctly (depending on wether its a classification or\n",
    "    # regression problem)\n",
    "    if dv == \"condition\":\n",
    "        # Helper Function to grab the dependent variable (label) from the image path name\n",
    "        # name structure of file: taskname_participantid_condition_arousalValue_valenceValue.png\n",
    "        func=lambda o: str(o)[-11]\n",
    "        # label (None for classification, FloatList for regression)\n",
    "        dv_label = None\n",
    "    elif dv == \"arousal\":\n",
    "        func=lambda o: str(o)[-9:-7]\n",
    "        dv_label = FloatList\n",
    "    elif dv == \"valence\":\n",
    "        func=lambda o: str(o)[-6:-4]\n",
    "        dv_label = FloatList\n",
    "    elif dv == \"task\":\n",
    "        func=lambda o: str(o)[-5]\n",
    "        dv_label = None\n",
    "    \n",
    "    data = data = (ImageList.from_folder(directory)\n",
    "                    .split_by_rand_pct()\n",
    "                    .label_from_func(func, label_cls=dv_label)\n",
    "                    .transform(size=224) # default 224\n",
    "                    .databunch()\n",
    "                    .normalize())\n",
    "    \n",
    "    return data\n"
   ]
  },
  {
   "cell_type": "markdown",
   "metadata": {},
   "source": [
    "## Classification"
   ]
  },
  {
   "cell_type": "markdown",
   "metadata": {},
   "source": [
    "### Classification without baseline (chose the images from the Condition Folder)"
   ]
  },
  {
   "cell_type": "code",
   "execution_count": null,
   "metadata": {},
   "outputs": [],
   "source": [
    "print(\"Classification Without Baseline with task: \", taskname)\n",
    "print(\"------------------------------------------------------\")\n",
    "\n",
    "# get the target path\n",
    "targ_dir = os.path.join(dir_path, \"Mouse_Usage_Images\", \"Cond\", taskname)\n",
    "\n",
    "# test = ImageList.from_folder(targ_dir).split_none()\n",
    "# ll = test.label_from_func(func, label_cls=FloatList)\n",
    "\n",
    "# create the databunch for the classification problem\n",
    "databunch = get_databunch(targ_dir, \"condition\")\n",
    "\n",
    "# print some examples of the images and their labels\n",
    "databunch.show_batch(rows=3, figsize=(7,6))"
   ]
  },
  {
   "cell_type": "code",
   "execution_count": null,
   "metadata": {},
   "outputs": [],
   "source": [
    "print(\"Classification Without Baseline with task: \", taskname)\n",
    "print(\"------------------------------------------------------\")\n",
    "\n",
    "# create the learner\n",
    "learn = cnn_learner(databunch, models.resnet34, metrics=accuracy)\n",
    "\n",
    "# train the model\n",
    "learn.fit_one_cycle(3)"
   ]
  },
  {
   "cell_type": "code",
   "execution_count": null,
   "metadata": {},
   "outputs": [],
   "source": [
    "# get the predicted values and actual values\n",
    "preds,targs = learn.get_preds()\n",
    "\n",
    "# print some examples of the predicted and actual values to understand the output of the model\n",
    "print(targs[:5])\n",
    "# for classification, the class probability is detected --> get the index of the class with the highest probability\n",
    "print([i.max(0)[1] for i in preds[:5]])"
   ]
  },
  {
   "cell_type": "code",
   "execution_count": null,
   "metadata": {},
   "outputs": [],
   "source": [
    "print(len(preds))"
   ]
  },
  {
   "cell_type": "markdown",
   "metadata": {},
   "source": [
    "### Classification with Baseline"
   ]
  },
  {
   "cell_type": "code",
   "execution_count": null,
   "metadata": {},
   "outputs": [],
   "source": [
    "print(\"Classification With Baseline with task: \", taskname)\n",
    "print(\"------------------------------------------------------\")\n",
    "\n",
    "# same procedure as with baseline, just uses the merged directory to get the merged image files\n",
    "targ_dir = os.path.join(dir_path, \"Mouse_Usage_Images\", \"Merged\", taskname)\n",
    "\n",
    "databunch = get_databunch(targ_dir, \"condition\")\n",
    "\n",
    "# get examples\n",
    "databunch.show_batch(rows=3, figsize=(7,6))"
   ]
  },
  {
   "cell_type": "code",
   "execution_count": null,
   "metadata": {},
   "outputs": [],
   "source": [
    "print(\"Classification With Baseline with task: \", taskname)\n",
    "print(\"------------------------------------------------------\")\n",
    "\n",
    "# create the learner\n",
    "learn = cnn_learner(databunch, models.resnet34, metrics=accuracy)\n",
    "\n",
    "# train the model\n",
    "learn.fit_one_cycle(3)"
   ]
  },
  {
   "cell_type": "code",
   "execution_count": null,
   "metadata": {},
   "outputs": [],
   "source": [
    "# get the predicted values and actual values and print examples\n",
    "preds,targs = learn.get_preds()\n",
    "\n",
    "print(targs[:5])\n",
    "print([i.max(0)[1] for i in preds[:5]])\n",
    "print(len(preds))"
   ]
  },
  {
   "cell_type": "markdown",
   "metadata": {},
   "source": [
    "## Regression"
   ]
  },
  {
   "cell_type": "markdown",
   "metadata": {},
   "source": [
    "### Regression without Baseline"
   ]
  },
  {
   "cell_type": "markdown",
   "metadata": {},
   "source": [
    "#### Arousal"
   ]
  },
  {
   "cell_type": "code",
   "execution_count": null,
   "metadata": {},
   "outputs": [],
   "source": [
    "print(\"Arousal Regression Without Baseline with task: \", taskname)\n",
    "print(\"------------------------------------------------------\")\n",
    "\n",
    "# get the target path\n",
    "targ_dir = os.path.join(dir_path, \"Mouse_Usage_Images\", \"Cond\", taskname)\n",
    "\n",
    "# create the databunch for the regression problem and arousal as the dependent variable\n",
    "databunch = get_databunch(targ_dir, \"arousal\")\n",
    "\n",
    "# print some examples of the images and their labels\n",
    "databunch.show_batch(rows=3, figsize=(7,6))"
   ]
  },
  {
   "cell_type": "code",
   "execution_count": null,
   "metadata": {},
   "outputs": [],
   "source": [
    "print(\"Arousal Regression Without Baseline with task: \", taskname)\n",
    "print(\"------------------------------------------------------\")\n",
    "\n",
    "# use the r² score for the regression\n",
    "learn = cnn_learner(databunch, models.resnet34, metrics=r2_score)\n",
    "\n",
    "learn.fit_one_cycle(3)"
   ]
  },
  {
   "cell_type": "code",
   "execution_count": null,
   "metadata": {},
   "outputs": [],
   "source": [
    "# get the predicted values and actual values\n",
    "preds,targs = learn.get_preds()\n",
    "\n",
    "# print some examples of the predicted and actual values to understand the output of the model\n",
    "print(targs[:5])\n",
    "print(preds[:5])"
   ]
  },
  {
   "cell_type": "markdown",
   "metadata": {},
   "source": [
    "#### Valence"
   ]
  },
  {
   "cell_type": "code",
   "execution_count": null,
   "metadata": {},
   "outputs": [],
   "source": [
    "print(\"Valence Regression Without Baseline with task: \", taskname)\n",
    "print(\"------------------------------------------------------\")\n",
    "\n",
    "targ_dir = os.path.join(dir_path, \"Mouse_Usage_Images\", \"Cond\", taskname)\n",
    "\n",
    "# create the databunch with valence as the dependent variable\n",
    "databunch = get_databunch(targ_dir, \"valence\")\n",
    "\n",
    "databunch.show_batch(rows=3, figsize=(7,6))"
   ]
  },
  {
   "cell_type": "code",
   "execution_count": null,
   "metadata": {},
   "outputs": [],
   "source": [
    "print(\"Valence Regression Without Baseline with task: \", taskname)\n",
    "print(\"------------------------------------------------------\")\n",
    "\n",
    "learn = cnn_learner(databunch, models.resnet34, metrics=r2_score)\n",
    "\n",
    "learn.fit_one_cycle(3)"
   ]
  },
  {
   "cell_type": "code",
   "execution_count": null,
   "metadata": {},
   "outputs": [],
   "source": [
    "# get the predicted values and actual values\n",
    "preds,targs = learn.get_preds()\n",
    "\n",
    "print(targs[:5])\n",
    "print(preds[:5])"
   ]
  },
  {
   "cell_type": "markdown",
   "metadata": {},
   "source": [
    "### Regression With Baseline Data"
   ]
  },
  {
   "cell_type": "markdown",
   "metadata": {},
   "source": [
    "#### Arousal"
   ]
  },
  {
   "cell_type": "code",
   "execution_count": null,
   "metadata": {},
   "outputs": [],
   "source": [
    "print(\"Arousal Regression With Baseline with task: \", taskname)\n",
    "print(\"------------------------------------------------------\")\n",
    "\n",
    "# get the target path (here: merged)\n",
    "targ_dir = os.path.join(dir_path, \"Mouse_Usage_Images\", \"Merged\", taskname)\n",
    "\n",
    "# create the databunch for the classification problem\n",
    "databunch = get_databunch(targ_dir, \"arousal\")\n",
    "\n",
    "# print some examples of the images and their labels\n",
    "databunch.show_batch(rows=3, figsize=(7,6))"
   ]
  },
  {
   "cell_type": "code",
   "execution_count": null,
   "metadata": {},
   "outputs": [],
   "source": [
    "print(\"Arousal Regression With Baseline with task: \", taskname)\n",
    "print(\"------------------------------------------------------\")\n",
    "\n",
    "# create the learner\n",
    "# use the r² score for the regression\n",
    "learn = cnn_learner(databunch, models.resnet34, metrics=r2_score)\n",
    "\n",
    "learn.fit_one_cycle(3)"
   ]
  },
  {
   "cell_type": "code",
   "execution_count": null,
   "metadata": {},
   "outputs": [],
   "source": [
    "# get the predicted values and actual values\n",
    "preds,targs = learn.get_preds()\n",
    "\n",
    "print(targs[:5])\n",
    "print(preds[:5])"
   ]
  },
  {
   "cell_type": "markdown",
   "metadata": {},
   "source": [
    "#### Valence"
   ]
  },
  {
   "cell_type": "code",
   "execution_count": null,
   "metadata": {},
   "outputs": [],
   "source": [
    "print(\"Valence Regression With Baseline with task: \", taskname)\n",
    "print(\"------------------------------------------------------\")\n",
    "\n",
    "# get the target path (here: merged)\n",
    "targ_dir = os.path.join(dir_path, \"Mouse_Usage_Images\", \"Merged\", taskname)\n",
    "\n",
    "# create the databunch for the classification problem\n",
    "databunch = get_databunch(targ_dir, \"valence\")\n",
    "\n",
    "# print some examples of the images and their labels\n",
    "databunch.show_batch(rows=3, figsize=(7,6))"
   ]
  },
  {
   "cell_type": "code",
   "execution_count": null,
   "metadata": {},
   "outputs": [],
   "source": [
    "print(\"Valence Regression With Baseline with task: \", taskname)\n",
    "print(\"------------------------------------------------------\")\n",
    "\n",
    "# create the learner\n",
    "# use the r² score for the regression\n",
    "learn = cnn_learner(databunch, models.resnet34, metrics=r2_score)\n",
    "\n",
    "learn.fit_one_cycle(3)"
   ]
  },
  {
   "cell_type": "code",
   "execution_count": null,
   "metadata": {},
   "outputs": [],
   "source": [
    "# get the predicted values and actual values\n",
    "preds,targs = learn.get_preds()\n",
    "\n",
    "print(targs[:5])\n",
    "print(preds[:5])"
   ]
  },
  {
   "cell_type": "markdown",
   "metadata": {},
   "source": [
    "### Task versus Task Classification (Proof-of-Principle)"
   ]
  },
  {
   "cell_type": "code",
   "execution_count": null,
   "metadata": {},
   "outputs": [],
   "source": [
    "print(\"Task Versus Task Classification: Point Click vs Drag Drop\")\n",
    "print(\"------------------------------------------------------\")\n",
    "\n",
    "# get the target path (here: merged)\n",
    "targ_dir = os.path.join(dir_path, \"Mouse_Usage_Images\", \"TaskVSTask\")\n",
    "\n",
    "# create the databunch for the task classification problem\n",
    "databunch = get_databunch(targ_dir, dv=\"task\")\n",
    "\n",
    "# print some examples of the images and their labels\n",
    "databunch.show_batch(rows=3, figsize=(7,6))"
   ]
  },
  {
   "cell_type": "code",
   "execution_count": null,
   "metadata": {},
   "outputs": [],
   "source": [
    "print(\"Task Versus Task Classification: Point Click vs Drag Drop\")\n",
    "print(\"------------------------------------------------------\")\n",
    "\n",
    "# create the learner\n",
    "# use the r² score for the regression\n",
    "learn = cnn_learner(databunch, models.resnet34, metrics=accuracy)\n",
    "\n",
    "learn.fit_one_cycle(3)"
   ]
  },
  {
   "cell_type": "code",
   "execution_count": 32,
   "metadata": {},
   "outputs": [
    {
     "data": {
      "text/html": [],
      "text/plain": [
       "<IPython.core.display.HTML object>"
      ]
     },
     "metadata": {},
     "output_type": "display_data"
    }
   ],
   "source": [
    "# get the predicted values and actual values\n",
    "preds,targs = learn.get_preds()"
   ]
  },
  {
   "cell_type": "code",
   "execution_count": null,
   "metadata": {},
   "outputs": [],
   "source": [
    "# get the number of images that were predicted\n",
    "len(targs)"
   ]
  },
  {
   "cell_type": "code",
   "execution_count": null,
   "metadata": {},
   "outputs": [],
   "source": [
    "# print some examples of the predicted and actual values to understand the output of the model\n",
    "print(targs[:5])\n",
    "# for classification, the class probability is detected --> get the index of the class with the highest probability\n",
    "print([i.max(0)[1] for i in preds[:5]])"
   ]
  }
 ],
 "metadata": {
  "kernelspec": {
   "display_name": "Python 3",
   "language": "python",
   "name": "python3"
  },
  "language_info": {
   "codemirror_mode": {
    "name": "ipython",
    "version": 3
   },
   "file_extension": ".py",
   "mimetype": "text/x-python",
   "name": "python",
   "nbconvert_exporter": "python",
   "pygments_lexer": "ipython3",
   "version": "3.6.8"
  }
 },
 "nbformat": 4,
 "nbformat_minor": 2
}
